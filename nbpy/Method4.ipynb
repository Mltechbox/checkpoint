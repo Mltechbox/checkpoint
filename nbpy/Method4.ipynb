{
 "cells": [
  {
   "cell_type": "code",
   "execution_count": 9,
   "id": "29e4be34",
   "metadata": {},
   "outputs": [
    {
     "name": "stdout",
     "output_type": "stream",
     "text": [
      "Yes\n"
     ]
    }
   ],
   "source": [
    "##  Method 4\n",
    "\n",
    "## The code takes a character of the string one by one and store it in an empty variable.\n",
    "## After storing all the characters it will compare both strings and check whether it is palindrome or not. \n",
    "\n",
    "# Python program to check if a string is palindrome or not\n",
    "\n",
    "x = \"malayalam\"\n",
    "\n",
    "w = \"\"\n",
    "for i in x:\n",
    "\tw = i + w\n",
    "\n",
    "if (x == w):\n",
    "\tprint(\"Yes\")\n",
    "else:\n",
    "\tprint(\"No\")"
   ]
  }
 ],
 "metadata": {
  "kernelspec": {
   "display_name": "Python 3 (ipykernel)",
   "language": "python",
   "name": "python3"
  },
  "language_info": {
   "codemirror_mode": {
    "name": "ipython",
    "version": 3
   },
   "file_extension": ".py",
   "mimetype": "text/x-python",
   "name": "python",
   "nbconvert_exporter": "python",
   "pygments_lexer": "ipython3",
   "version": "3.10.0"
  }
 },
 "nbformat": 4,
 "nbformat_minor": 5
}
