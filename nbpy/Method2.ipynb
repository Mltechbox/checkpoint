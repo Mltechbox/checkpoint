{
 "cells": [
  {
   "cell_type": "code",
   "execution_count": 3,
   "id": "01a10516",
   "metadata": {},
   "outputs": [
    {
     "name": "stdout",
     "output_type": "stream",
     "text": [
      "Yes\n"
     ]
    }
   ],
   "source": [
    "##  Method 2\n",
    "\n",
    "## Run a loop from starting to length/2 and check the first character to the last character \n",
    "## of the string and second to second last one and so on …. If any character mismatches, \n",
    "## the string wouldn’t be a palindrome.\n",
    "\n",
    "# function to check string is palindrome or not\n",
    "\n",
    "def isPalindrome(str):\n",
    "\n",
    "\t# Run loop from 0 to len/2\n",
    "\tfor i in range(0, int(len(str)/2)):\n",
    "\t\tif str[i] != str[len(str)-i-1]:\n",
    "\t\t\treturn False\n",
    "\treturn True\n",
    "\n",
    "# main function\n",
    "s = \"malayalam\"\n",
    "ans = isPalindrome(s)\n",
    "\n",
    "if (ans):\n",
    "\tprint(\"Yes\")\n",
    "else:\n",
    "\tprint(\"No\")\n"
   ]
  }
 ],
 "metadata": {
  "kernelspec": {
   "display_name": "Python 3 (ipykernel)",
   "language": "python",
   "name": "python3"
  },
  "language_info": {
   "codemirror_mode": {
    "name": "ipython",
    "version": 3
   },
   "file_extension": ".py",
   "mimetype": "text/x-python",
   "name": "python",
   "nbconvert_exporter": "python",
   "pygments_lexer": "ipython3",
   "version": "3.10.0"
  }
 },
 "nbformat": 4,
 "nbformat_minor": 5
}
