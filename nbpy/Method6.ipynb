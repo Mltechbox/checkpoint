{
 "cells": [
  {
   "cell_type": "code",
   "execution_count": 2,
   "id": "d97928db",
   "metadata": {},
   "outputs": [
    {
     "name": "stdout",
     "output_type": "stream",
     "text": [
      "No\n"
     ]
    }
   ],
   "source": [
    "##  Method 6\n",
    "\n",
    "## Recursive function \n",
    "\n",
    "def isPalindrome(s):\n",
    " \n",
    "    # check lower case text\n",
    "    s = s.lower()\n",
    "    # length of s\n",
    "    l = len(s)\n",
    " \n",
    "    # if length is less than 2\n",
    "    \n",
    "    if l < 2:\n",
    "        return True\n",
    " \n",
    "    # If s[0] and s[l-1] are equal\n",
    "    \n",
    "    elif s[0] == s[l - 1]:\n",
    " \n",
    "        # Call is palindrome form substring(1,l-1)\n",
    "    \n",
    "        return isPalindrome(s[1: l - 1])\n",
    " \n",
    "    else:\n",
    "        return False\n",
    " \n",
    "# Driver Code\n",
    "\n",
    "s = \"MalaYaLm\"\n",
    "ans = isPalindrome(s)\n",
    " \n",
    "if ans:\n",
    "    print(\"Yes\")\n",
    "else:\n",
    "    print(\"No\")"
   ]
  },
  {
   "cell_type": "code",
   "execution_count": null,
   "id": "8c40392a",
   "metadata": {},
   "outputs": [],
   "source": []
  },
  {
   "cell_type": "code",
   "execution_count": null,
   "id": "e41643a3",
   "metadata": {},
   "outputs": [],
   "source": []
  }
 ],
 "metadata": {
  "kernelspec": {
   "display_name": "Python 3 (ipykernel)",
   "language": "python",
   "name": "python3"
  },
  "language_info": {
   "codemirror_mode": {
    "name": "ipython",
    "version": 3
   },
   "file_extension": ".py",
   "mimetype": "text/x-python",
   "name": "python",
   "nbconvert_exporter": "python",
   "pygments_lexer": "ipython3",
   "version": "3.9.7"
  }
 },
 "nbformat": 4,
 "nbformat_minor": 5
}
