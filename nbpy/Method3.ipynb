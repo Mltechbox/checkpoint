{
 "cells": [
  {
   "cell_type": "code",
   "execution_count": 8,
   "id": "b19a1491",
   "metadata": {},
   "outputs": [
    {
     "name": "stdout",
     "output_type": "stream",
     "text": [
      "Yes\n"
     ]
    }
   ],
   "source": [
    "##  Method 3 (Method 2 variation)\n",
    "\n",
    "## Run a function to reverse the string and compare\n",
    "\n",
    "# function to check string is palindrome or not\n",
    "\n",
    "def isPalindrome(s):\n",
    " \n",
    "    # Using predefined function to reverse to string print(s)\n",
    "        \n",
    "    rev = ''.join(reversed(s))\n",
    " \n",
    "    # Checking if both string are equal\n",
    "    \n",
    "    if (s == rev):\n",
    "        return True\n",
    "    return False\n",
    " \n",
    "# main function\n",
    "s = \"malayalam\"\n",
    "ans = isPalindrome(s)\n",
    " \n",
    "if (ans):\n",
    "    print(\"Yes\")\n",
    "else:\n",
    "    print(\"No\")\n"
   ]
  }
 ],
 "metadata": {
  "kernelspec": {
   "display_name": "Python 3 (ipykernel)",
   "language": "python",
   "name": "python3"
  },
  "language_info": {
   "codemirror_mode": {
    "name": "ipython",
    "version": 3
   },
   "file_extension": ".py",
   "mimetype": "text/x-python",
   "name": "python",
   "nbconvert_exporter": "python",
   "pygments_lexer": "ipython3",
   "version": "3.10.0"
  }
 },
 "nbformat": 4,
 "nbformat_minor": 5
}
